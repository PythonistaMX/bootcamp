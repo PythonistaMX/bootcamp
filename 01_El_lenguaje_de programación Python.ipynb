{
 "cells": [
  {
   "cell_type": "markdown",
   "metadata": {},
   "source": [
    "[![imagenes/pythonista.png](imagenes/pythonista.png)](https://pythonista.io)"
   ]
  },
  {
   "cell_type": "markdown",
   "metadata": {},
   "source": [
    "# Introducción.\n",
    "\n",
    "[Python](http://python.org) es un lenguaje de programación de alto nivel, interactivo e interpretado, creado por Guido Van Rossum en 1991. El nombre del lenguaje es en honor al programa cómico de la televisión británica llamado “Monty Python Flying Circus”.\n",
    "\n",
    "Es de código abierto, multi-plataforma y se adecua a diversos paradigmas de programación (programación funcional, programación orientada a objetos, programación procesal, etc.).\n",
    "\n",
    "Python se ha vuelto muy popular ya sea como un primer lenguaje de programación o como el lenguaje seleccionado por defecto por diversos proyectos de primer nivel tales como Openstack, Blender, Google App Engine, Django, Jupyter, etc. "
   ]
  },
  {
   "cell_type": "markdown",
   "metadata": {},
   "source": [
    "## Características de Python.\n",
    "\n",
    "* Es un lenguaje interpreteado.\n",
    "* Sintaxis muy clara y legible.\n",
    "* Fuerte capacidad de introspección.\n",
    "* Orientación a objetos intuitiva.\n",
    "* Expresión del código procedimental.\n",
    "* Altamente modular, soporta  paquetes jerárquicos.\n",
    "* Enfocado en el uso de excepciones para el manejo de errores.\n",
    "* Tipos de datos dinámicos de muy alto nivel.\n",
    "* Extensa biblioteca estándar (STL) y módulos de terceros para prácticamente todas las tareas.\n",
    "* Extensiones y módulos fácilmente escritos en C, C + + (o Java para Jython, o. NET para IronPython).\n",
    "* Integrable dentro de las aplicaciones como una interfaz de scripting."
   ]
  },
  {
   "cell_type": "markdown",
   "metadata": {},
   "source": [
    "## ¡Hola, mundo!"
   ]
  },
  {
   "cell_type": "code",
   "execution_count": null,
   "metadata": {},
   "outputs": [],
   "source": [
    "print(¡Hola, mundo!')"
   ]
  },
  {
   "cell_type": "markdown",
   "metadata": {},
   "source": [
    "## Sintaxis clara.\n",
    "\n",
    "* No utiliza caracteres especiales para delimitar líneas ni bloques de código.\n",
    "* Utiliza la indentación para delimitar bloques de código.\n",
    "* Cuenta con una serie de reglas de estilo bien definidas en la [PEP-8](https://www.python.org/dev/peps/pep-0008/)."
   ]
  },
  {
   "cell_type": "markdown",
   "metadata": {},
   "source": [
    "## Tipos básicos.\n",
    "\n",
    "* ```int``` para enteros.\n",
    "* ```float```, para números de punto flotante.\n",
    "* ```complex```, para números complejos.\n",
    "* ```bool```, para Booleanos (``True```, ```False```).\n",
    "* ```str```, para cadenas de caracteres.\n",
    "* ```bytes```. para secuencias de bytes.\n",
    "* ```list```, para colecciones de datos ordenadas indexadas numéricamente.\n",
    "* ```tuple```, para colecciones inmutables de datos ordenadas indexadas numéricamente.\n",
    "* ```dict```, para colecciones de datos indexadas mediante identificadores.\n",
    "* ```set```, para colecciones de datos.\n",
    "* ```frozenset```, para colecciones de datos inmutables.\n",
    "* ```None```, para valores nulos."
   ]
  },
  {
   "cell_type": "markdown",
   "metadata": {},
   "source": [
    "## Es de tipado dinámico.\n",
    "\n",
    "No es necesario definir explícitamente el tipo de dato. El intérprete infiere el tipo de dato del que se trata."
   ]
  },
  {
   "cell_type": "code",
   "execution_count": null,
   "metadata": {},
   "outputs": [],
   "source": [
    "type(1)"
   ]
  },
  {
   "cell_type": "code",
   "execution_count": null,
   "metadata": {},
   "outputs": [],
   "source": [
    "type(False)"
   ]
  },
  {
   "cell_type": "code",
   "execution_count": null,
   "metadata": {},
   "outputs": [],
   "source": [
    "type(24.13 + 25j)"
   ]
  },
  {
   "cell_type": "code",
   "execution_count": null,
   "metadata": {},
   "outputs": [],
   "source": [
    "type('Hola')"
   ]
  },
  {
   "cell_type": "code",
   "execution_count": null,
   "metadata": {},
   "outputs": [],
   "source": [
    "type(b'Hola')"
   ]
  },
  {
   "cell_type": "code",
   "execution_count": null,
   "metadata": {},
   "outputs": [],
   "source": [
    "type({'nombre':'Juan', \n",
    "      'primer apellido':'Pérez',\n",
    "     'segundo apeelido':'Sánchez',\n",
    "     'al corriente':bool})"
   ]
  },
  {
   "cell_type": "code",
   "execution_count": null,
   "metadata": {},
   "outputs": [],
   "source": [
    "type(([1,2,3,4], ['uno,', 'dos',  'tres', 'cuatro']))"
   ]
  },
  {
   "cell_type": "code",
   "execution_count": null,
   "metadata": {},
   "outputs": [],
   "source": [
    "type(([1,2,3,4], ['uno,', 'dos',  'tres', 'cuatro'])[0])"
   ]
  },
  {
   "cell_type": "markdown",
   "metadata": {},
   "source": [
    "## Todo es un objeto en Python."
   ]
  },
  {
   "cell_type": "code",
   "execution_count": null,
   "metadata": {},
   "outputs": [],
   "source": [
    "12.24.__int__()"
   ]
  },
  {
   "cell_type": "code",
   "execution_count": null,
   "metadata": {},
   "outputs": [],
   "source": [
    "'hola'.upper()"
   ]
  },
  {
   "cell_type": "code",
   "execution_count": null,
   "metadata": {},
   "outputs": [],
   "source": [
    "{1, 2, 3, 5}.intersection({2, 'dos', 7, 11, 5.0})"
   ]
  },
  {
   "cell_type": "markdown",
   "metadata": {},
   "source": [
    "## Es multiparadigma."
   ]
  },
  {
   "cell_type": "markdown",
   "metadata": {},
   "source": [
    "### Programación orientada a objetos."
   ]
  },
  {
   "cell_type": "code",
   "execution_count": null,
   "metadata": {},
   "outputs": [],
   "source": [
    "class Sumador():\n",
    "    def __init__(self, valor):\n",
    "        self.valor = str(valor)\n",
    "        \n",
    "        \n",
    "    def __add__(self, elemento):\n",
    "            return self.valor + \" \" + str(elemento)\n",
    "        \n",
    "    def __radd__(self, elemento):\n",
    "            return str(elemento) + \" \" + self.valor"
   ]
  },
  {
   "cell_type": "code",
   "execution_count": null,
   "metadata": {},
   "outputs": [],
   "source": [
    "cadena = Sumador(\"Hola\")"
   ]
  },
  {
   "cell_type": "code",
   "execution_count": null,
   "metadata": {},
   "outputs": [],
   "source": [
    "cadena + True"
   ]
  },
  {
   "cell_type": "code",
   "execution_count": null,
   "metadata": {},
   "outputs": [],
   "source": [
    "(1, 2, 3) + cadena"
   ]
  },
  {
   "cell_type": "markdown",
   "metadata": {},
   "source": [
    "### Programación procedimental."
   ]
  },
  {
   "cell_type": "code",
   "execution_count": null,
   "metadata": {},
   "outputs": [],
   "source": [
    "vehiculos = (('automóvil', 'gasolina', 50),\n",
    "            ('autobús', 'diesel', 500),\n",
    "            ('velero', None, None))"
   ]
  },
  {
   "cell_type": "code",
   "execution_count": null,
   "metadata": {},
   "outputs": [],
   "source": [
    "\n",
    "tipos, combustibles, capacidades = [], [], []             \n",
    "for tipo, combustible, capacidad in vehiculos:\n",
    "             tipos.append(tipo)\n",
    "             combustibles.append(combustible)\n",
    "             capacidades.append(capacidad)\n",
    "print(tipos)\n",
    "print(combustibles)\n",
    "print(capacidades)\n"
   ]
  },
  {
   "cell_type": "markdown",
   "metadata": {},
   "source": [
    "### Programación funcional."
   ]
  },
  {
   "cell_type": "code",
   "execution_count": null,
   "metadata": {},
   "outputs": [],
   "source": [
    "factorial = lambda numero: numero * factorial(numero - 1) if numero > 1 else 1"
   ]
  },
  {
   "cell_type": "code",
   "execution_count": null,
   "metadata": {},
   "outputs": [],
   "source": [
    "factorial(5)"
   ]
  },
  {
   "cell_type": "markdown",
   "metadata": {},
   "source": [
    "## Es modular y cuenta con una gran biblioteca de aplicaciones."
   ]
  },
  {
   "cell_type": "code",
   "execution_count": null,
   "metadata": {
    "scrolled": true
   },
   "outputs": [],
   "source": [
    "!pip install flask"
   ]
  },
  {
   "cell_type": "markdown",
   "metadata": {},
   "source": [
    "La siguiente celda levantará un servidor web  escuchando en http://localhost:5000"
   ]
  },
  {
   "cell_type": "code",
   "execution_count": null,
   "metadata": {},
   "outputs": [],
   "source": [
    "from flask import Flask\n",
    "\n",
    "app = Flask(\"__main__\")\n",
    "\n",
    "@app.route(\"/\")\n",
    "def index():\n",
    "    return('<h1>Hola, Mundo.</h1>')\n",
    "\n",
    "app.run()"
   ]
  },
  {
   "cell_type": "markdown",
   "metadata": {},
   "source": [
    "<p style=\"text-align: center\"><a rel=\"license\" href=\"http://creativecommons.org/licenses/by/4.0/\"><img alt=\"Licencia Creative Commons\" style=\"border-width:0\" src=\"https://i.creativecommons.org/l/by/4.0/80x15.png\" /></a><br />Esta obra está bajo una <a rel=\"license\" href=\"http://creativecommons.org/licenses/by/4.0/\">Licencia Creative Commons Atribución 4.0 Internacional</a>.</p>\n",
    "<p style=\"text-align: center\">&copy; José Luis Chiquete Valdivieso. 2019.</p>"
   ]
  }
 ],
 "metadata": {
  "kernelspec": {
   "display_name": "Python 3",
   "language": "python",
   "name": "python3"
  },
  "language_info": {
   "codemirror_mode": {
    "name": "ipython",
    "version": 3
   },
   "file_extension": ".py",
   "mimetype": "text/x-python",
   "name": "python",
   "nbconvert_exporter": "python",
   "pygments_lexer": "ipython3",
   "version": "3.7.0"
  }
 },
 "nbformat": 4,
 "nbformat_minor": 2
}
